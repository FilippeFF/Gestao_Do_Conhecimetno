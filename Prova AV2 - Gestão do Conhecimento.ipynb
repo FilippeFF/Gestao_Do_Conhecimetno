{
  "cells": [
    {
      "metadata": {},
      "cell_type": "markdown",
      "source": "DISCIPLINA: Gestão do Conhecimento\t PROFESSOR(A): Alex Salgado\nPERÍODO: 7o. TURNO: noite AVALIAÇÃO:\n\nALUNO(A): Luiz Filippe Teixeira Rodrigues\n\nGRAU: VISTO DO PROFESSOR:\n"
    },
    {
      "metadata": {},
      "cell_type": "markdown",
      "source": "# Questão 1 - valor (1,0)\n"
    },
    {
      "metadata": {},
      "cell_type": "markdown",
      "source": "*** Crie um repositório no Github e adicione este arquivo no mesmo\n\n\n1.1 - Você deve escolher uma base de dados aberta que seja possível treinar um modelo de aprendizagem de máquina Supervisionado de Classificação (assim como o exemplo da Iris e Cancer). A partir desta base de dados, você vai treinar o modelo, fazer previsões e calcular a acurácia do mesmo.\nObs.: Não utilizar nenhuma base de dados usada em aula ou nos trabalhos.\nAs bases de dados não poderá ser igual a do seu colega, dessa forma, preencha a planilha abaixo dizendo a sua base e seu tema. \nhttps://forms.gle/CvmN5fr4u2g5zoZRA\n\n\n** Para saber se já escolheram o mesmo que você, consulte no link abaixo.\nhttps://docs.google.com/spreadsheets/d/1E_GuH7C8vn_o-gyOeN5LavoQlByjVQb1UiVfP71OX3g/edit?usp=sharing\n"
    },
    {
      "metadata": {
        "trusted": false
      },
      "cell_type": "code",
      "source": "https://github.com/FilippeFF/Gestao_Do_Conhecimetno/blob/master/drinks.csv",
      "execution_count": null,
      "outputs": []
    },
    {
      "metadata": {},
      "cell_type": "markdown",
      "source": "1.2 - Após tratada, criar uma pasta no seu GoogleDrive e disponibilizar o link do arquivo de sua base (csv, xlsx, etc) para ser importado no seu código."
    },
    {
      "metadata": {
        "trusted": false
      },
      "cell_type": "code",
      "source": "https://drive.google.com/file/d/1iSt3m-UBeQwvoHy59bBFyU5IN_hj6D6i/view?usp=sharing",
      "execution_count": null,
      "outputs": []
    },
    {
      "metadata": {},
      "cell_type": "markdown",
      "source": "## Criar um código usando o Jupyter Notebook e responder (através de código) às seguintes questões:\n"
    },
    {
      "metadata": {},
      "cell_type": "markdown",
      "source": "# Questão 2 - valor (1,0)"
    },
    {
      "metadata": {},
      "cell_type": "markdown",
      "source": "2.1 - Importar os modulos python para machine learn e carregar o arquivo \n\n** Sugestão se for do tipo xlsx, usar o read_excel do pandas\nimport pandas as pd\ndt = pd.read_excel(\"meuarquivo.xlsx\")\n"
    },
    {
      "metadata": {
        "trusted": true
      },
      "cell_type": "code",
      "source": "import pandas as pd\nimport numpy as np\nimport seaborn as sb\ndrinks = pd.read_csv('drinks.csv', sep= ';', encoding='ISO-8859-1')",
      "execution_count": 23,
      "outputs": []
    },
    {
      "metadata": {},
      "cell_type": "markdown",
      "source": "2.2 - Exibir os primeiros registros desta tabela.\n"
    },
    {
      "metadata": {
        "trusted": true
      },
      "cell_type": "code",
      "source": "print(drinks)",
      "execution_count": 24,
      "outputs": [
        {
          "output_type": "stream",
          "text": "                       Pais  Copos_Cerveja  Dose_Destilados  Taca_Vinho  \\\n0               Afeganistao              0                0           0   \n1                   Albania             89              132          54   \n2                   Argelia             25                0          14   \n3                   Andorra            245              138         312   \n4                    Angola            217               57          45   \n5         Antigua_e_Barbuda            102              128          45   \n6                 Argentina            193               25         221   \n7                   Armenia             21              179          11   \n8                 AustrAlia            261               72         212   \n9                   Austria            279               75         191   \n10               Azerbaijao             21               46           5   \n11                  Bahamas            122              176          51   \n12                    Barem             42               63           7   \n13               Bangladesh              0                0           0   \n14                 Barbados            143              173          36   \n15                  Belarus            142              373          42   \n16                  Belgica            295               84         212   \n17                   Belize            263              114           8   \n18                    Benin             34                4          13   \n19                    Butao             23                0           0   \n20                  Bolivia            167               41           8   \n21     Bosnia_e_Herzegovina             76              173           8   \n22                 Botsuana            173               35          35   \n23                   Brasil            245              145          16   \n24                   Brunei             31                2           1   \n25                 BulgAria            231              252          94   \n26             Burkina_Faso             25                7           7   \n27                  Burundi             88                0           0   \n28          Costa_do_Marfim             37                1           7   \n29               Cabo_Verde            144               56          16   \n..                      ...            ...              ...         ...   \n163                Suriname            128              178           7   \n164             Suazilandia             90                2           2   \n165                  Suecia            152               60         186   \n166                   Suica            185              100         280   \n167                   Siria              5               35          16   \n168             Tajiquistao              2               15           0   \n169               Tailandia             99              258           1   \n170               Macedonia            106               27          86   \n171             Timor_Leste              1                1           4   \n172                      Ir             36                2          19   \n173                   Tonga             36               21           5   \n174       Trinidad_e_Tobago            197              156           7   \n175                 Tunisia             51                3          20   \n176                    Peru             51               22           7   \n177           Turcomenistao             19               71          32   \n178                  Tuvalu              6               41           9   \n179                  Uganda             45                9           0   \n180                 Ucrania            206              237          45   \n181  Emirados_Arabes_Unidos             16              135           5   \n182             Reino_Unido            219              126         195   \n183                Tanzania             36                6           1   \n184                     EUA            249              158          84   \n185                 Uruguai            115               35         220   \n186             Uzbequistao             25              101           8   \n187                 Vanuatu             21               18          11   \n188               Venezuela            333              100           3   \n189                  Vietna            111                2           1   \n190                   Iemen              6                0           0   \n191                  Zambia             32               19           4   \n192                Zimbabue             64               18           4   \n\n     Total_Litros_Alcool_Puro  \n0                         0.0  \n1                         4.9  \n2                         0.7  \n3                        12.4  \n4                         5.9  \n5                         4.9  \n6                         8.3  \n7                         3.8  \n8                        10.4  \n9                         9.7  \n10                        1.3  \n11                        6.3  \n12                        2.0  \n13                        0.0  \n14                        6.3  \n15                       14.4  \n16                       10.5  \n17                        6.8  \n18                        1.1  \n19                        0.4  \n20                        3.8  \n21                        4.6  \n22                        5.4  \n23                        7.2  \n24                        0.6  \n25                       10.3  \n26                        4.3  \n27                        6.3  \n28                        4.0  \n29                        4.0  \n..                        ...  \n163                       5.6  \n164                       4.7  \n165                       7.2  \n166                      10.2  \n167                       1.0  \n168                       0.3  \n169                       6.4  \n170                       3.9  \n171                       0.1  \n172                       1.3  \n173                       1.1  \n174                       6.4  \n175                       1.3  \n176                       1.4  \n177                       2.2  \n178                       1.0  \n179                       8.3  \n180                       8.9  \n181                       2.8  \n182                      10.4  \n183                       5.7  \n184                       8.7  \n185                       6.6  \n186                       2.4  \n187                       0.9  \n188                       7.7  \n189                       2.0  \n190                       0.1  \n191                       2.5  \n192                       4.7  \n\n[193 rows x 5 columns]\n",
          "name": "stdout"
        }
      ]
    },
    {
      "metadata": {},
      "cell_type": "markdown",
      "source": "2.3 - De que se trata esse banco de dados? e que tipo de previsão pode ser feito com ele?\n"
    },
    {
      "metadata": {
        "trusted": false
      },
      "cell_type": "code",
      "source": "Um banco de dados que retrata o consumo de bebidas alcoolicas no mundo. Podemos fazer previsões de regressão.",
      "execution_count": null,
      "outputs": []
    },
    {
      "metadata": {},
      "cell_type": "markdown",
      "source": "# Questão 3 - valor (0,5)\n"
    },
    {
      "metadata": {},
      "cell_type": "markdown",
      "source": "Utilizando as terminologias de Machine Learning(features e observações):\n\n"
    },
    {
      "metadata": {},
      "cell_type": "markdown",
      "source": "3.1 - Quantas \"features\" têm nessa base de dados?"
    },
    {
      "metadata": {
        "trusted": true
      },
      "cell_type": "code",
      "source": "5",
      "execution_count": 20,
      "outputs": [
        {
          "output_type": "execute_result",
          "execution_count": 20,
          "data": {
            "text/plain": "5"
          },
          "metadata": {}
        }
      ]
    },
    {
      "metadata": {},
      "cell_type": "markdown",
      "source": "3.2 - Quantas observações têm nessa base de dados?\n"
    },
    {
      "metadata": {
        "trusted": true
      },
      "cell_type": "code",
      "source": "193",
      "execution_count": 28,
      "outputs": [
        {
          "output_type": "execute_result",
          "execution_count": 28,
          "data": {
            "text/plain": "193"
          },
          "metadata": {}
        }
      ]
    },
    {
      "metadata": {},
      "cell_type": "markdown",
      "source": "# Questão 4 - valor (1,5)\n"
    },
    {
      "metadata": {},
      "cell_type": "markdown",
      "source": "4.1 - Faça uma previsão, usando o algoritmo de LogisticRegression.\n"
    },
    {
      "metadata": {
        "trusted": false
      },
      "cell_type": "code",
      "source": "",
      "execution_count": null,
      "outputs": []
    },
    {
      "metadata": {},
      "cell_type": "markdown",
      "source": "# Questão 5 - valor (2,0)\n"
    },
    {
      "metadata": {},
      "cell_type": "markdown",
      "source": "Usando o método de avaliação de acurácia (Treinar e testar na base de dados inteira/Train test entire model), Calcular a acurácia de cada um dos 3 métodos abaixo."
    },
    {
      "metadata": {},
      "cell_type": "markdown",
      "source": "4.1 - Acurácia usando o algoritmo de KNN (com 1 vizinho, k=1)\n"
    },
    {
      "metadata": {
        "trusted": true
      },
      "cell_type": "code",
      "source": "x = np.array(drinks.drop('Pais',1))\ny= np.array(drinks.Pais)\nfrom sklearn.neighbors import KNeighborsClassifier\nknn = KNeighborsClassifier(n_neighbors=1)\nknn.fit(x,y)\nknn.predict([[240,141,11,6.9]])",
      "execution_count": 25,
      "outputs": [
        {
          "output_type": "execute_result",
          "execution_count": 25,
          "data": {
            "text/plain": "array(['Brasil'], dtype=object)"
          },
          "metadata": {}
        }
      ]
    },
    {
      "metadata": {},
      "cell_type": "markdown",
      "source": "4.2 - Acurácia usando o algoritmo de KNN (com 5 vizinho, k=5)\n"
    },
    {
      "metadata": {
        "trusted": true
      },
      "cell_type": "code",
      "source": "x = np.array(drinks.drop('Pais',1))\ny= np.array(drinks.Pais)\nfrom sklearn.neighbors import KNeighborsClassifier\nknn = KNeighborsClassifier(n_neighbors=5)\nknn.fit(x,y)\nknn.predict([[240,141,11,6.9]])",
      "execution_count": 27,
      "outputs": [
        {
          "output_type": "execute_result",
          "execution_count": 27,
          "data": {
            "text/plain": "array(['Belize'], dtype=object)"
          },
          "metadata": {}
        }
      ]
    },
    {
      "metadata": {},
      "cell_type": "markdown",
      "source": "4.3 - Acurácia usando o algoritmo de LogisticRegression\n"
    },
    {
      "metadata": {
        "trusted": false
      },
      "cell_type": "code",
      "source": "",
      "execution_count": null,
      "outputs": []
    },
    {
      "metadata": {},
      "cell_type": "markdown",
      "source": "4.4 - De acordo com seus resultados anteriores, qual dos 3 métodos é mais eficiente?\n"
    },
    {
      "metadata": {
        "trusted": false
      },
      "cell_type": "code",
      "source": "",
      "execution_count": null,
      "outputs": []
    },
    {
      "metadata": {
        "trusted": false
      },
      "cell_type": "code",
      "source": "*** Envie o link do seu Github com essa resposta no Classroom\n",
      "execution_count": null,
      "outputs": []
    }
  ],
  "metadata": {
    "kernelspec": {
      "name": "python3",
      "display_name": "Python 3",
      "language": "python"
    },
    "language_info": {
      "mimetype": "text/x-python",
      "nbconvert_exporter": "python",
      "name": "python",
      "pygments_lexer": "ipython3",
      "version": "3.5.4",
      "file_extension": ".py",
      "codemirror_mode": {
        "version": 3,
        "name": "ipython"
      }
    }
  },
  "nbformat": 4,
  "nbformat_minor": 2
}